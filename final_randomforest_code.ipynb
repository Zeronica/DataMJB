{
 "cells": [
  {
   "cell_type": "code",
   "execution_count": 3,
   "metadata": {},
   "outputs": [
    {
     "name": "stderr",
     "output_type": "stream",
     "text": [
      "/anaconda3/lib/python3.6/site-packages/h5py/__init__.py:36: FutureWarning: Conversion of the second argument of issubdtype from `float` to `np.floating` is deprecated. In future, it will be treated as `np.float64 == np.dtype(float).type`.\n",
      "  from ._conv import register_converters as _register_converters\n",
      "Using TensorFlow backend.\n"
     ]
    }
   ],
   "source": [
    "import numpy as np # linear algebra\n",
    "import pandas as pd # data processing, CSV file I/O (e.g. pd.read_csv)\n",
    "import tensorflow as tf\n",
    "from sklearn.model_selection import train_test_split\n",
    "import keras"
   ]
  },
  {
   "cell_type": "code",
   "execution_count": 28,
   "metadata": {},
   "outputs": [
    {
     "data": {
      "text/plain": [
       "(16868, 243)"
      ]
     },
     "execution_count": 28,
     "metadata": {},
     "output_type": "execute_result"
    }
   ],
   "source": [
    "data = pd.read_csv('final_data.csv')\n",
    "data = data.drop(data.columns[0], 1)\n",
    "data.head()\n",
    "data.shape"
   ]
  },
  {
   "cell_type": "code",
   "execution_count": 29,
   "metadata": {},
   "outputs": [
    {
     "data": {
      "text/plain": [
       "(16868, 243)"
      ]
     },
     "execution_count": 29,
     "metadata": {},
     "output_type": "execute_result"
    }
   ],
   "source": [
    "data.shape"
   ]
  },
  {
   "cell_type": "code",
   "execution_count": 30,
   "metadata": {},
   "outputs": [
    {
     "data": {
      "text/plain": [
       "(14031, 243)"
      ]
     },
     "execution_count": 30,
     "metadata": {},
     "output_type": "execute_result"
    }
   ],
   "source": [
    "data.drop_duplicates(inplace=True)\n",
    "data.shape"
   ]
  },
  {
   "cell_type": "markdown",
   "metadata": {},
   "source": [
    "# 1.Try Regression "
   ]
  },
  {
   "cell_type": "code",
   "execution_count": 30,
   "metadata": {},
   "outputs": [],
   "source": [
    "x1 = data.drop('price',1)\n",
    "y1 = data.price\n",
    "x1.to_csv('x.csv')\n",
    "y1.to_csv('y.csv')"
   ]
  },
  {
   "cell_type": "code",
   "execution_count": 31,
   "metadata": {},
   "outputs": [],
   "source": [
    "x = x1.values.astype('float32')\n",
    "y = y1.values.astype('float32')\n",
    "y = y.reshape(-1,1)\n",
    "x_train, x_test, y_train, y_test = train_test_split(x, y, test_size=0.20, random_state=0)"
   ]
  },
  {
   "cell_type": "code",
   "execution_count": 32,
   "metadata": {},
   "outputs": [],
   "source": [
    "from sklearn.ensemble import RandomForestRegressor"
   ]
  },
  {
   "cell_type": "code",
   "execution_count": 33,
   "metadata": {},
   "outputs": [],
   "source": [
    "model = RandomForestRegressor(n_estimators=100)\n",
    "                             "
   ]
  },
  {
   "cell_type": "code",
   "execution_count": 34,
   "metadata": {},
   "outputs": [
    {
     "name": "stderr",
     "output_type": "stream",
     "text": [
      "/anaconda3/lib/python3.6/site-packages/ipykernel_launcher.py:1: DataConversionWarning: A column-vector y was passed when a 1d array was expected. Please change the shape of y to (n_samples,), for example using ravel().\n",
      "  \"\"\"Entry point for launching an IPython kernel.\n"
     ]
    },
    {
     "data": {
      "text/plain": [
       "RandomForestRegressor(bootstrap=True, criterion='mse', max_depth=None,\n",
       "           max_features='auto', max_leaf_nodes=None,\n",
       "           min_impurity_decrease=0.0, min_impurity_split=None,\n",
       "           min_samples_leaf=1, min_samples_split=2,\n",
       "           min_weight_fraction_leaf=0.0, n_estimators=100, n_jobs=1,\n",
       "           oob_score=False, random_state=None, verbose=0, warm_start=False)"
      ]
     },
     "execution_count": 34,
     "metadata": {},
     "output_type": "execute_result"
    }
   ],
   "source": [
    "model.fit(x_train, y_train)"
   ]
  },
  {
   "cell_type": "code",
   "execution_count": 35,
   "metadata": {},
   "outputs": [
    {
     "data": {
      "text/plain": [
       "0.7921457310836479"
      ]
     },
     "execution_count": 35,
     "metadata": {},
     "output_type": "execute_result"
    }
   ],
   "source": [
    "model.score(x_train, y_train\n",
    "           )"
   ]
  },
  {
   "cell_type": "code",
   "execution_count": 36,
   "metadata": {},
   "outputs": [
    {
     "data": {
      "text/plain": [
       "0.19098156410250322"
      ]
     },
     "execution_count": 36,
     "metadata": {},
     "output_type": "execute_result"
    }
   ],
   "source": [
    "model.score(x_test, y_test\n",
    "           )"
   ]
  },
  {
   "cell_type": "code",
   "execution_count": 37,
   "metadata": {},
   "outputs": [],
   "source": [
    "predicted = model.predict(x_test)  \n",
    "predicted_1 = model.predict(x_train)  "
   ]
  },
  {
   "cell_type": "code",
   "execution_count": 38,
   "metadata": {},
   "outputs": [
    {
     "name": "stdout",
     "output_type": "stream",
     "text": [
      "accuracy of test: 1815/2807  0.6465977912361952\n",
      "accuracy of train: 10266/11224  0.9146471846044191\n"
     ]
    }
   ],
   "source": [
    "import math\n",
    "\n",
    "d=[]\n",
    "total = len(y_test)\n",
    "cnt = 0  \n",
    "for i in range(0,100):\n",
    "    d.append(0);\n",
    "#predicted = model.predict(x_test)  \n",
    "for i,v in enumerate(predicted):  \n",
    "    p = v\n",
    "    r = y_test[i]\n",
    "    for j in range(0, 100):\n",
    "        jj = j/100\n",
    "        if abs((r-p)/r)<jj:\n",
    "            d[j]+=1;\n",
    "    #print('actual:', p, ' prediction:', r)\n",
    "    if math.fabs((r - p)/r) < 0.15:\n",
    "        cnt += 1\n",
    "print(\"accuracy of test: %d/%d \" % (cnt, total), cnt/total)\n",
    "for i in range(0,100):\n",
    "    d[i]=d[i]/total\n",
    "\n",
    "total = len(y_train)\n",
    "\n",
    "cnt = 0  \n",
    "#predicted = model.predict(x_train)  \n",
    "for i,v in enumerate(predicted_1):  \n",
    "    p = v\n",
    "    r = y_train[i]\n",
    "    #print('actual:', p, ' prediction:', r)\n",
    "    if math.fabs((r - p)/r) < 0.15:\n",
    "        cnt += 1\n",
    "print(\"accuracy of train: %d/%d \" % (cnt, total), cnt/total)"
   ]
  },
  {
   "cell_type": "markdown",
   "metadata": {},
   "source": [
    "# 2. Try Classification"
   ]
  },
  {
   "cell_type": "code",
   "execution_count": 7,
   "metadata": {},
   "outputs": [],
   "source": [
    "from sklearn.ensemble import RandomForestClassifier"
   ]
  },
  {
   "cell_type": "markdown",
   "metadata": {},
   "source": [
    "## 2.1 with 5 labels"
   ]
  },
  {
   "cell_type": "code",
   "execution_count": 25,
   "metadata": {},
   "outputs": [
    {
     "data": {
      "text/plain": [
       "0.7335233345208407"
      ]
     },
     "execution_count": 25,
     "metadata": {},
     "output_type": "execute_result"
    }
   ],
   "source": [
    "data1 = data.copy()\n",
    "def func(x):\n",
    "    if x>80000:\n",
    "        return \"Very High\"\n",
    "    elif x>60000:\n",
    "        return \"High\"\n",
    "    elif x>40000:\n",
    "        return \"Medium\"\n",
    "    elif x>20000:\n",
    "        return \"Low\"\n",
    "    else:\n",
    "        return \"Very Low\"\n",
    "data1['price_class'] = list(map(func, data1['price']))\n",
    "data1.head()\n",
    "x1 = data1.drop(['price','price_class'],1)\n",
    "y1 = data1.price_class\n",
    "x_train, x_test, y_train, y_test = train_test_split(x1, y1, test_size=0.20, random_state=0)\n",
    "model1 = RandomForestClassifier(n_estimators=100)\n",
    "model1.fit(x_train, y_train)\n",
    "model1.score(x_test, y_test)"
   ]
  },
  {
   "cell_type": "markdown",
   "metadata": {},
   "source": [
    "## 2.2 with 3 labels"
   ]
  },
  {
   "cell_type": "code",
   "execution_count": 27,
   "metadata": {},
   "outputs": [
    {
     "data": {
      "text/plain": [
       "0.8247239045244033"
      ]
     },
     "execution_count": 27,
     "metadata": {},
     "output_type": "execute_result"
    }
   ],
   "source": [
    "data1 = data.copy()\n",
    "def func(x):\n",
    "    if x>70000:\n",
    "        return \"High\"\n",
    "    elif x>40000:\n",
    "        return \"Medium\"\n",
    "    else:\n",
    "        return \"Low\"\n",
    "data1['price_class'] = list(map(func, data1['price']))\n",
    "data1.head()\n",
    "x1 = data1.drop(['price','price_class'],1)\n",
    "y1 = data1.price_class\n",
    "x_train, x_test, y_train, y_test = train_test_split(x1, y1, test_size=0.20, random_state=0)\n",
    "model1 = RandomForestClassifier(n_estimators=100)\n",
    "model1.fit(x_train, y_train)\n",
    "model1.score(x_test, y_test)"
   ]
  },
  {
   "cell_type": "code",
   "execution_count": null,
   "metadata": {},
   "outputs": [],
   "source": []
  }
 ],
 "metadata": {
  "kernelspec": {
   "display_name": "Python 3",
   "language": "python",
   "name": "python3"
  },
  "language_info": {
   "codemirror_mode": {
    "name": "ipython",
    "version": 3
   },
   "file_extension": ".py",
   "mimetype": "text/x-python",
   "name": "python",
   "nbconvert_exporter": "python",
   "pygments_lexer": "ipython3",
   "version": "3.6.4"
  }
 },
 "nbformat": 4,
 "nbformat_minor": 2
}
