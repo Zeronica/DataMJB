{
 "cells": [
  {
   "cell_type": "code",
   "execution_count": 260,
   "metadata": {},
   "outputs": [],
   "source": [
    "import numpy as np\n",
    "import pandas as pd\n",
    "import re"
   ]
  },
  {
   "cell_type": "code",
   "execution_count": 266,
   "metadata": {},
   "outputs": [],
   "source": [
    "data = pd.read_csv(\"data_new.csv\")"
   ]
  },
  {
   "cell_type": "code",
   "execution_count": 267,
   "metadata": {},
   "outputs": [],
   "source": [
    "def clean(data):\n",
    "    #deal with meanless info\n",
    "    data = data.drop(['unknown1','unknown2','unknown3','unknown4'],1)\n",
    "    \n",
    "    #deal with elevator\n",
    "    for i in range(len(data)):\n",
    "        if len(data.elevator[i].split()[0])>1:\n",
    "            data.iloc[i, 12] = '无'\n",
    "        else :\n",
    "            data.iloc[i, 12] = data.elevator[i].split()[0]\n",
    "        \n",
    "    #deal with room\n",
    "    vroom = []\n",
    "    bedroom = []\n",
    "    bathroom = []\n",
    "    for i in range(len(data)):\n",
    "        k = re.findall(r'[0-9]',data.room[i])\n",
    "        try:\n",
    "            vroom.append(k[0])\n",
    "            bedroom.append(k[1])\n",
    "            bathroom.append(k[2])\n",
    "        except:\n",
    "            data = data.drop(i)\n",
    "    data['vroom'] = vroom\n",
    "    data['bedroom'] = bedroom\n",
    "    data['bathroom'] = bathroom\n",
    "    data = data.drop('room', axis=1)\n",
    "    data = data.reset_index(drop=True)\n",
    "    \n",
    "    #deal with area\n",
    "    area = []\n",
    "    c = 0\n",
    "    for i in range(len(data)):\n",
    "        k = re.findall(r'[0-9]+',data.area[i])\n",
    "        area.append(k[0])\n",
    "        c+=1\n",
    "    data['area'] = area\n",
    "    \n",
    "    #deal with price\n",
    "    price = []\n",
    "    for i in range(len(data)):\n",
    "        try:\n",
    "            k = re.findall(r'[0-9]+',data.price[i])\n",
    "            price.append(k[0])\n",
    "        except:\n",
    "            data = data.drop(i)\n",
    "    data['price'] = price\n",
    "\n",
    "    #deal with time\n",
    "    c=[]\n",
    "    for i in range(len(data)):\n",
    "        a = re.findall(r'[0-9]+', data.time[i])[0]\n",
    "        if len(a)>4:\n",
    "            data = data.drop(i)\n",
    "        else:\n",
    "            c.append(2018-int(a))\n",
    "    data = data.reset_index(drop=True)\n",
    "    data['time'] = c\n",
    "    \n",
    "    #deal with web\n",
    "    d = data.web\n",
    "    data.drop('web', 1, inplace=True)\n",
    "    \n",
    "    #numeric form\n",
    "    data['area'] = pd.to_numeric(data['area'])\n",
    "    data['price'] = pd.to_numeric(data['price'])\n",
    "    data['linedistance'] = pd.to_numeric(data['linedistance'])\n",
    "    data['time'] = pd.to_numeric(data['time'])\n",
    "    data['vroom'] = pd.to_numeric(data['vroom'])\n",
    "    data['bedroom'] = pd.to_numeric(data['bedroom'])\n",
    "    data['bathroom'] = pd.to_numeric(data['bathroom'])\n",
    "    \n",
    "    #get dummies\n",
    "    data_fixed = pd.get_dummies(data)\n",
    "    data_fixed.drop(data_fixed.columns[0], axis=1, inplace=True)\n",
    "    \n",
    "    #output\n",
    "    data_fixed.drop('price',1).to_csv('x.csv')\n",
    "    data_fixed.price.to_csv('y.csv')\n",
    "    (data.price-data.price.mean()).to_csv('y1.csv')\n",
    "    return d"
   ]
  },
  {
   "cell_type": "code",
   "execution_count": 268,
   "metadata": {},
   "outputs": [],
   "source": [
    "dd = clean(data)"
   ]
  },
  {
   "cell_type": "code",
   "execution_count": 269,
   "metadata": {},
   "outputs": [
    {
     "data": {
      "text/plain": [
       "6480"
      ]
     },
     "execution_count": 269,
     "metadata": {},
     "output_type": "execute_result"
    }
   ],
   "source": [
    "len(dd)"
   ]
  },
  {
   "cell_type": "code",
   "execution_count": 270,
   "metadata": {},
   "outputs": [
    {
     "data": {
      "text/plain": [
       "5739"
      ]
     },
     "execution_count": 270,
     "metadata": {},
     "output_type": "execute_result"
    }
   ],
   "source": [
    "len(dd.unique())"
   ]
  },
  {
   "cell_type": "code",
   "execution_count": null,
   "metadata": {},
   "outputs": [],
   "source": []
  }
 ],
 "metadata": {
  "kernelspec": {
   "display_name": "Python 3",
   "language": "python",
   "name": "python3"
  },
  "language_info": {
   "codemirror_mode": {
    "name": "ipython",
    "version": 3
   },
   "file_extension": ".py",
   "mimetype": "text/x-python",
   "name": "python",
   "nbconvert_exporter": "python",
   "pygments_lexer": "ipython3",
   "version": "3.6.4"
  }
 },
 "nbformat": 4,
 "nbformat_minor": 2
}
