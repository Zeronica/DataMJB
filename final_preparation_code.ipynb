{
 "cells": [
  {
   "cell_type": "code",
   "execution_count": 4,
   "metadata": {},
   "outputs": [],
   "source": [
    "import numpy as np\n",
    "import pandas as pd\n",
    "import re"
   ]
  },
  {
   "cell_type": "code",
   "execution_count": 10,
   "metadata": {},
   "outputs": [
    {
     "data": {
      "text/html": [
       "<div>\n",
       "<style scoped>\n",
       "    .dataframe tbody tr th:only-of-type {\n",
       "        vertical-align: middle;\n",
       "    }\n",
       "\n",
       "    .dataframe tbody tr th {\n",
       "        vertical-align: top;\n",
       "    }\n",
       "\n",
       "    .dataframe thead th {\n",
       "        text-align: right;\n",
       "    }\n",
       "</style>\n",
       "<table border=\"1\" class=\"dataframe\">\n",
       "  <thead>\n",
       "    <tr style=\"text-align: right;\">\n",
       "      <th></th>\n",
       "      <th>room</th>\n",
       "      <th>area</th>\n",
       "      <th>price</th>\n",
       "      <th>orient</th>\n",
       "      <th>level</th>\n",
       "      <th>dec</th>\n",
       "      <th>line</th>\n",
       "      <th>linedistance</th>\n",
       "      <th>district</th>\n",
       "      <th>subdistrict</th>\n",
       "      <th>school</th>\n",
       "      <th>time</th>\n",
       "      <th>elevator</th>\n",
       "      <th>unknown1</th>\n",
       "      <th>unknown2</th>\n",
       "      <th>unknown3</th>\n",
       "      <th>unknown4</th>\n",
       "      <th>web</th>\n",
       "    </tr>\n",
       "  </thead>\n",
       "  <tbody>\n",
       "    <tr>\n",
       "      <th>0</th>\n",
       "      <td>\\r\\n2室2厅2卫</td>\n",
       "      <td>165.51平米</td>\n",
       "      <td>108755元/平米</td>\n",
       "      <td>南</td>\n",
       "      <td>高层</td>\n",
       "      <td>豪华装修</td>\n",
       "      <td>9</td>\n",
       "      <td>615</td>\n",
       "      <td>黄浦</td>\n",
       "      <td>董家渡</td>\n",
       "      <td>0</td>\n",
       "      <td>2011年</td>\n",
       "      <td>有</td>\n",
       "      <td>个人产权</td>\n",
       "      <td>普通住宅</td>\n",
       "      <td>平层</td>\n",
       "      <td>板楼</td>\n",
       "      <td>http://esf.sh.fang.com/chushou/3_320091760.htm</td>\n",
       "    </tr>\n",
       "    <tr>\n",
       "      <th>1</th>\n",
       "      <td>\\r\\n3室1厅1卫</td>\n",
       "      <td>68.8平米</td>\n",
       "      <td>28779元/平米</td>\n",
       "      <td>南</td>\n",
       "      <td>中层</td>\n",
       "      <td>中装修</td>\n",
       "      <td>17</td>\n",
       "      <td>752</td>\n",
       "      <td>青浦</td>\n",
       "      <td>青浦城区</td>\n",
       "      <td>0</td>\n",
       "      <td>1998年</td>\n",
       "      <td>无</td>\n",
       "      <td>个人产权</td>\n",
       "      <td>普通住宅</td>\n",
       "      <td>平层</td>\n",
       "      <td>板楼</td>\n",
       "      <td>http://esf.sh.fang.com/chushou/3_318628127.htm</td>\n",
       "    </tr>\n",
       "    <tr>\n",
       "      <th>2</th>\n",
       "      <td>\\r\\n2室2厅2卫</td>\n",
       "      <td>30平米</td>\n",
       "      <td>28667元/平米</td>\n",
       "      <td>暂无</td>\n",
       "      <td>高层</td>\n",
       "      <td>简装修</td>\n",
       "      <td>11</td>\n",
       "      <td>512</td>\n",
       "      <td>嘉定</td>\n",
       "      <td>嘉定新城</td>\n",
       "      <td>1</td>\n",
       "      <td>2011年</td>\n",
       "      <td>无</td>\n",
       "      <td>个人产权</td>\n",
       "      <td>普通住宅</td>\n",
       "      <td>复式</td>\n",
       "      <td>板楼</td>\n",
       "      <td>http://esf.sh.fang.com/chushou/3_320068690.htm</td>\n",
       "    </tr>\n",
       "    <tr>\n",
       "      <th>3</th>\n",
       "      <td>\\r\\n5室3厅5卫</td>\n",
       "      <td>549平米</td>\n",
       "      <td>78324元/平米</td>\n",
       "      <td>北</td>\n",
       "      <td>低层</td>\n",
       "      <td>豪华装修</td>\n",
       "      <td>9</td>\n",
       "      <td>996</td>\n",
       "      <td>浦东</td>\n",
       "      <td>碧云</td>\n",
       "      <td>0</td>\n",
       "      <td>2006年</td>\n",
       "      <td>独栋</td>\n",
       "      <td>481平米</td>\n",
       "      <td>挑高</td>\n",
       "      <td>2</td>\n",
       "      <td>1</td>\n",
       "      <td>http://esf.sh.fang.com/chushou/10_319804369.htm</td>\n",
       "    </tr>\n",
       "    <tr>\n",
       "      <th>4</th>\n",
       "      <td>\\r\\n3室2厅1卫</td>\n",
       "      <td>89平米</td>\n",
       "      <td>29775元/平米</td>\n",
       "      <td>南</td>\n",
       "      <td>中层</td>\n",
       "      <td>精装修</td>\n",
       "      <td>17</td>\n",
       "      <td>543</td>\n",
       "      <td>青浦</td>\n",
       "      <td>青浦城区</td>\n",
       "      <td>1</td>\n",
       "      <td>2010年</td>\n",
       "      <td>无</td>\n",
       "      <td>个人产权</td>\n",
       "      <td>普通住宅</td>\n",
       "      <td>平层</td>\n",
       "      <td>板楼</td>\n",
       "      <td>http://esf.sh.fang.com/chushou/3_318628120.htm</td>\n",
       "    </tr>\n",
       "  </tbody>\n",
       "</table>\n",
       "</div>"
      ],
      "text/plain": [
       "                 room      area       price orient level   dec  line  \\\n",
       "0  \\r\\n2室2厅2卫          165.51平米  108755元/平米      南    高层  豪华装修     9   \n",
       "1  \\r\\n3室1厅1卫            68.8平米   28779元/平米      南    中层   中装修    17   \n",
       "2  \\r\\n2室2厅2卫              30平米   28667元/平米     暂无    高层   简装修    11   \n",
       "3  \\r\\n5室3厅5卫             549平米   78324元/平米      北    低层  豪华装修     9   \n",
       "4  \\r\\n3室2厅1卫              89平米   29775元/平米      南    中层   精装修    17   \n",
       "\n",
       "   linedistance district subdistrict  school   time elevator unknown1  \\\n",
       "0           615       黄浦         董家渡       0  2011年       有      个人产权   \n",
       "1           752       青浦        青浦城区       0  1998年       无      个人产权   \n",
       "2           512       嘉定        嘉定新城       1  2011年       无      个人产权   \n",
       "3           996       浦东          碧云       0  2006年       独栋    481平米   \n",
       "4           543       青浦        青浦城区       1  2010年       无      个人产权   \n",
       "\n",
       "  unknown2 unknown3 unknown4                                              web  \n",
       "0     普通住宅       平层       板楼   http://esf.sh.fang.com/chushou/3_320091760.htm  \n",
       "1     普通住宅       平层       板楼   http://esf.sh.fang.com/chushou/3_318628127.htm  \n",
       "2     普通住宅       复式       板楼   http://esf.sh.fang.com/chushou/3_320068690.htm  \n",
       "3       挑高        2        1  http://esf.sh.fang.com/chushou/10_319804369.htm  \n",
       "4     普通住宅       平层       板楼   http://esf.sh.fang.com/chushou/3_318628120.htm  "
      ]
     },
     "execution_count": 10,
     "metadata": {},
     "output_type": "execute_result"
    }
   ],
   "source": [
    "data = pd.read_csv(\"data_600.csv\",index_col=0)\n",
    "data = data.drop(data.columns[0], axis=1)\n",
    "data.head()"
   ]
  },
  {
   "cell_type": "code",
   "execution_count": 12,
   "metadata": {},
   "outputs": [],
   "source": [
    "def clean(data):\n",
    "\n",
    "    #deal with meanless info\n",
    "    data = data.drop(['unknown1','unknown2','unknown3','unknown4'],1)\n",
    "    print(data.columns)\n",
    "\n",
    "    #deal with elevator\n",
    "    for i in range(len(data)):\n",
    "        if len(data.elevator[i].split()[0])>1:\n",
    "            data.iloc[i, 12] = '无'\n",
    "        else :\n",
    "            data.iloc[i, 12] = data.elevator[i].split()[0]\n",
    "        \n",
    "    #deal with room\n",
    "    vroom = []\n",
    "    bedroom = []\n",
    "    bathroom = []\n",
    "    for i in range(len(data)):\n",
    "        k = re.findall(r'[0-9]',data.room[i])\n",
    "        try:\n",
    "            vroom.append(k[0])\n",
    "            bedroom.append(k[1])\n",
    "            bathroom.append(k[2])\n",
    "        except:\n",
    "            data = data.drop(i)\n",
    "    data['vroom'] = vroom\n",
    "    data['bedroom'] = bedroom\n",
    "    data['bathroom'] = bathroom\n",
    "    data = data.drop('room', axis=1)\n",
    "    data = data.reset_index(drop=True)\n",
    "    \n",
    "    #deal with area\n",
    "    area = []\n",
    "    c = 0\n",
    "    for i in range(len(data)):\n",
    "        k = re.findall(r'[0-9]+',data.area[i])\n",
    "        area.append(k[0])\n",
    "        c+=1\n",
    "    data['area'] = area\n",
    "    \n",
    "    #deal with price\n",
    "    price = []\n",
    "    print(data.head())\n",
    "    for i in range(len(data)):\n",
    "        try:\n",
    "            k = re.findall(r'[0-9]+',data.price[i])\n",
    "            price.append(k[0])\n",
    "        except:\n",
    "            data = data.drop(i)\n",
    "    data['price'] = price\n",
    "    \n",
    "    #deal with time\n",
    "    c=[]\n",
    "    for i in range(len(data)):\n",
    "        a = re.findall(r'[0-9]+', data.time[i])\n",
    "        if len(a[0])>4:\n",
    "            data = data.drop(i)\n",
    "        else:\n",
    "            c.append(2018-int(a[0]))\n",
    "\n",
    "    data = data.reset_index(drop=True)\n",
    "    data['time'] = c\n",
    "    \n",
    "    #deal with web\n",
    "    d = data.web\n",
    "    data.drop('web', 1, inplace=True)\n",
    "    \n",
    "    #numeric form\n",
    "    data['area'] = pd.to_numeric(data['area'])\n",
    "    data['price'] = pd.to_numeric(data['price'])\n",
    "    data['linedistance'] = pd.to_numeric(data['linedistance'])\n",
    "    data['time'] = pd.to_numeric(data['time'])\n",
    "    data['vroom'] = pd.to_numeric(data['vroom'])\n",
    "    data['bedroom'] = pd.to_numeric(data['bedroom'])\n",
    "    data['bathroom'] = pd.to_numeric(data['bathroom'])\n",
    "    \n",
    "    #get dummies\n",
    "    data_fixed = pd.get_dummies(data)\n",
    "    data_fixed.drop(data_fixed.columns[0], axis=1, inplace=True)\n",
    "    \n",
    "    #output\n",
    "    data_fixed.to_csv('final_data.csv')\n",
    "\n",
    "    return d"
   ]
  },
  {
   "cell_type": "code",
   "execution_count": null,
   "metadata": {},
   "outputs": [
    {
     "name": "stdout",
     "output_type": "stream",
     "text": [
      "Index(['room', 'area', 'price', 'orient', 'level', 'dec', 'line',\n",
      "       'linedistance', 'district', 'subdistrict', 'school', 'time', 'elevator',\n",
      "       'web'],\n",
      "      dtype='object')\n"
     ]
    }
   ],
   "source": [
    "clean(data)"
   ]
  },
  {
   "cell_type": "code",
   "execution_count": 22,
   "metadata": {},
   "outputs": [
    {
     "data": {
      "text/plain": [
       "16868"
      ]
     },
     "execution_count": 22,
     "metadata": {},
     "output_type": "execute_result"
    }
   ],
   "source": [
    "len(dd)"
   ]
  },
  {
   "cell_type": "code",
   "execution_count": 24,
   "metadata": {},
   "outputs": [
    {
     "data": {
      "text/plain": [
       "numpy.ndarray"
      ]
     },
     "execution_count": 24,
     "metadata": {},
     "output_type": "execute_result"
    }
   ],
   "source": [
    "type(dd.unique())"
   ]
  },
  {
   "cell_type": "code",
   "execution_count": 17,
   "metadata": {},
   "outputs": [
    {
     "data": {
      "text/plain": [
       "Series([], Name: web, dtype: object)"
      ]
     },
     "execution_count": 17,
     "metadata": {},
     "output_type": "execute_result"
    }
   ],
   "source": [
    "dd.head()"
   ]
  },
  {
   "cell_type": "code",
   "execution_count": 37,
   "metadata": {},
   "outputs": [],
   "source": [
    "a = re.findall(r'[0-9]+', data.time[1])"
   ]
  },
  {
   "cell_type": "code",
   "execution_count": 38,
   "metadata": {},
   "outputs": [
    {
     "data": {
      "text/plain": [
       "['1998']"
      ]
     },
     "execution_count": 38,
     "metadata": {},
     "output_type": "execute_result"
    }
   ],
   "source": [
    "a"
   ]
  },
  {
   "cell_type": "code",
   "execution_count": 25,
   "metadata": {},
   "outputs": [
    {
     "ename": "AttributeError",
     "evalue": "'DataFrame' object has no attribute 'unique'",
     "output_type": "error",
     "traceback": [
      "\u001b[0;31m---------------------------------------------------------------------------\u001b[0m",
      "\u001b[0;31mAttributeError\u001b[0m                            Traceback (most recent call last)",
      "\u001b[0;32m<ipython-input-25-29a79790751a>\u001b[0m in \u001b[0;36m<module>\u001b[0;34m()\u001b[0m\n\u001b[0;32m----> 1\u001b[0;31m \u001b[0mdata\u001b[0m\u001b[0;34m.\u001b[0m\u001b[0munique\u001b[0m\u001b[0;34m(\u001b[0m\u001b[0;34m)\u001b[0m\u001b[0;34m\u001b[0m\u001b[0m\n\u001b[0m",
      "\u001b[0;32m/anaconda3/lib/python3.6/site-packages/pandas/core/generic.py\u001b[0m in \u001b[0;36m__getattr__\u001b[0;34m(self, name)\u001b[0m\n\u001b[1;32m   3612\u001b[0m             \u001b[0;32mif\u001b[0m \u001b[0mname\u001b[0m \u001b[0;32min\u001b[0m \u001b[0mself\u001b[0m\u001b[0;34m.\u001b[0m\u001b[0m_info_axis\u001b[0m\u001b[0;34m:\u001b[0m\u001b[0;34m\u001b[0m\u001b[0m\n\u001b[1;32m   3613\u001b[0m                 \u001b[0;32mreturn\u001b[0m \u001b[0mself\u001b[0m\u001b[0;34m[\u001b[0m\u001b[0mname\u001b[0m\u001b[0;34m]\u001b[0m\u001b[0;34m\u001b[0m\u001b[0m\n\u001b[0;32m-> 3614\u001b[0;31m             \u001b[0;32mreturn\u001b[0m \u001b[0mobject\u001b[0m\u001b[0;34m.\u001b[0m\u001b[0m__getattribute__\u001b[0m\u001b[0;34m(\u001b[0m\u001b[0mself\u001b[0m\u001b[0;34m,\u001b[0m \u001b[0mname\u001b[0m\u001b[0;34m)\u001b[0m\u001b[0;34m\u001b[0m\u001b[0m\n\u001b[0m\u001b[1;32m   3615\u001b[0m \u001b[0;34m\u001b[0m\u001b[0m\n\u001b[1;32m   3616\u001b[0m     \u001b[0;32mdef\u001b[0m \u001b[0m__setattr__\u001b[0m\u001b[0;34m(\u001b[0m\u001b[0mself\u001b[0m\u001b[0;34m,\u001b[0m \u001b[0mname\u001b[0m\u001b[0;34m,\u001b[0m \u001b[0mvalue\u001b[0m\u001b[0;34m)\u001b[0m\u001b[0;34m:\u001b[0m\u001b[0;34m\u001b[0m\u001b[0m\n",
      "\u001b[0;31mAttributeError\u001b[0m: 'DataFrame' object has no attribute 'unique'"
     ]
    }
   ],
   "source": [
    "data.unique()"
   ]
  },
  {
   "cell_type": "code",
   "execution_count": null,
   "metadata": {},
   "outputs": [],
   "source": []
  }
 ],
 "metadata": {
  "kernelspec": {
   "display_name": "Python 3",
   "language": "python",
   "name": "python3"
  },
  "language_info": {
   "codemirror_mode": {
    "name": "ipython",
    "version": 3
   },
   "file_extension": ".py",
   "mimetype": "text/x-python",
   "name": "python",
   "nbconvert_exporter": "python",
   "pygments_lexer": "ipython3",
   "version": "3.6.4"
  }
 },
 "nbformat": 4,
 "nbformat_minor": 2
}
