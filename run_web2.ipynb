{
 "cells": [
  {
   "cell_type": "code",
   "execution_count": 6,
   "metadata": {},
   "outputs": [],
   "source": [
    "import requests\n",
    "import bs4 as bs\n",
    "import pandas as pd\n",
    "import numpy as np\n",
    "import re\n",
    "import json"
   ]
  },
  {
   "cell_type": "code",
   "execution_count": 19,
   "metadata": {},
   "outputs": [],
   "source": [
    "start = 9000 # put your number here\n",
    "end = start + 2000\n",
    "batch = 100"
   ]
  },
  {
   "cell_type": "code",
   "execution_count": 21,
   "metadata": {},
   "outputs": [
    {
     "name": "stdout",
     "output_type": "stream",
     "text": [
      "done with row  9000\n",
      "done with row  9001\n",
      "done with row  9002\n",
      "done with row  9003\n",
      "done with row  9004\n",
      "done with row  9005\n",
      "done with row  9006\n",
      "done with row  9007\n",
      "done with row  9008\n",
      "done with row  9009\n",
      "done with row  9010\n",
      "done with row  9011\n",
      "done with row  9012\n",
      "done with row  9013\n",
      "done with row  9014\n",
      "done with row  9015\n"
     ]
    },
    {
     "ename": "AttributeError",
     "evalue": "'NoneType' object has no attribute 'find_all'",
     "output_type": "error",
     "traceback": [
      "\u001b[0;31m-------------------------------------------------------------------\u001b[0m",
      "\u001b[0;31mAttributeError\u001b[0m                    Traceback (most recent call last)",
      "\u001b[0;32m<ipython-input-21-030d8b362983>\u001b[0m in \u001b[0;36m<module>\u001b[0;34m()\u001b[0m\n\u001b[1;32m     60\u001b[0m \u001b[0;34m\u001b[0m\u001b[0m\n\u001b[1;32m     61\u001b[0m \u001b[0;32mfor\u001b[0m \u001b[0mi\u001b[0m \u001b[0;32min\u001b[0m \u001b[0mrange\u001b[0m\u001b[0;34m(\u001b[0m\u001b[0mstart\u001b[0m\u001b[0;34m,\u001b[0m \u001b[0mend\u001b[0m\u001b[0;34m,\u001b[0m \u001b[0mbatch\u001b[0m\u001b[0;34m)\u001b[0m\u001b[0;34m:\u001b[0m\u001b[0;34m\u001b[0m\u001b[0m\n\u001b[0;32m---> 62\u001b[0;31m     \u001b[0mdata\u001b[0m\u001b[0;34m,\u001b[0m \u001b[0mdata_prices\u001b[0m \u001b[0;34m=\u001b[0m \u001b[0mpopulate_batch_row\u001b[0m\u001b[0;34m(\u001b[0m\u001b[0mi\u001b[0m\u001b[0;34m,\u001b[0m \u001b[0mbatch\u001b[0m\u001b[0;34m)\u001b[0m\u001b[0;34m\u001b[0m\u001b[0m\n\u001b[0m",
      "\u001b[0;32m<ipython-input-21-030d8b362983>\u001b[0m in \u001b[0;36mpopulate_batch_row\u001b[0;34m(start, batch_size)\u001b[0m\n\u001b[1;32m     48\u001b[0m             \u001b[0msource\u001b[0m \u001b[0;34m=\u001b[0m \u001b[0mrequests\u001b[0m\u001b[0;34m.\u001b[0m\u001b[0mget\u001b[0m\u001b[0;34m(\u001b[0m\u001b[0mlink\u001b[0m\u001b[0;34m,\u001b[0m \u001b[0mheaders\u001b[0m\u001b[0;34m=\u001b[0m\u001b[0mheaders\u001b[0m\u001b[0;34m)\u001b[0m\u001b[0;34m.\u001b[0m\u001b[0mcontent\u001b[0m\u001b[0;34m\u001b[0m\u001b[0m\n\u001b[1;32m     49\u001b[0m             \u001b[0msoup\u001b[0m \u001b[0;34m=\u001b[0m \u001b[0mbs\u001b[0m\u001b[0;34m.\u001b[0m\u001b[0mBeautifulSoup\u001b[0m\u001b[0;34m(\u001b[0m\u001b[0msource\u001b[0m\u001b[0;34m,\u001b[0m \u001b[0;34m'html.parser'\u001b[0m\u001b[0;34m)\u001b[0m\u001b[0;34m\u001b[0m\u001b[0m\n\u001b[0;32m---> 50\u001b[0;31m             \u001b[0mpopulate_row\u001b[0m\u001b[0;34m(\u001b[0m\u001b[0mi\u001b[0m\u001b[0;34m,\u001b[0m \u001b[0mdata\u001b[0m\u001b[0;34m,\u001b[0m \u001b[0msoup\u001b[0m\u001b[0;34m)\u001b[0m\u001b[0;34m\u001b[0m\u001b[0m\n\u001b[0m\u001b[1;32m     51\u001b[0m             \u001b[0mdata_prices\u001b[0m \u001b[0;34m=\u001b[0m \u001b[0madd_price\u001b[0m\u001b[0;34m(\u001b[0m\u001b[0mi\u001b[0m\u001b[0;34m,\u001b[0m \u001b[0mdata\u001b[0m\u001b[0;34m,\u001b[0m \u001b[0mdata_prices\u001b[0m\u001b[0;34m,\u001b[0m \u001b[0msoup\u001b[0m\u001b[0;34m)\u001b[0m\u001b[0;34m\u001b[0m\u001b[0m\n\u001b[1;32m     52\u001b[0m         \u001b[0;32mexcept\u001b[0m \u001b[0mrequests\u001b[0m\u001b[0;34m.\u001b[0m\u001b[0mConnectionError\u001b[0m\u001b[0;34m:\u001b[0m\u001b[0;34m\u001b[0m\u001b[0m\n",
      "\u001b[0;32m<ipython-input-21-030d8b362983>\u001b[0m in \u001b[0;36mpopulate_row\u001b[0;34m(row_index, data, soup)\u001b[0m\n\u001b[1;32m      8\u001b[0m \u001b[0;32mdef\u001b[0m \u001b[0mpopulate_row\u001b[0m\u001b[0;34m(\u001b[0m\u001b[0mrow_index\u001b[0m\u001b[0;34m,\u001b[0m \u001b[0mdata\u001b[0m\u001b[0;34m,\u001b[0m \u001b[0msoup\u001b[0m\u001b[0;34m)\u001b[0m\u001b[0;34m:\u001b[0m\u001b[0;34m\u001b[0m\u001b[0m\n\u001b[1;32m      9\u001b[0m     \u001b[0mparms\u001b[0m \u001b[0;34m=\u001b[0m \u001b[0msoup\u001b[0m\u001b[0;34m.\u001b[0m\u001b[0mfind\u001b[0m\u001b[0;34m(\u001b[0m\u001b[0mclass_\u001b[0m\u001b[0;34m=\u001b[0m\u001b[0;34m\"basic-parms-mod\"\u001b[0m\u001b[0;34m)\u001b[0m\u001b[0;34m\u001b[0m\u001b[0m\n\u001b[0;32m---> 10\u001b[0;31m     \u001b[0mresults\u001b[0m \u001b[0;34m=\u001b[0m \u001b[0;34m[\u001b[0m\u001b[0mi\u001b[0m\u001b[0;34m.\u001b[0m\u001b[0mcontents\u001b[0m\u001b[0;34m[\u001b[0m\u001b[0;36m0\u001b[0m\u001b[0;34m]\u001b[0m \u001b[0;32mfor\u001b[0m \u001b[0mi\u001b[0m \u001b[0;32min\u001b[0m \u001b[0mparms\u001b[0m\u001b[0;34m.\u001b[0m\u001b[0mfind_all\u001b[0m\u001b[0;34m(\u001b[0m\u001b[0;34m\"dd\"\u001b[0m\u001b[0;34m)\u001b[0m\u001b[0;34m]\u001b[0m\u001b[0;34m\u001b[0m\u001b[0m\n\u001b[0m\u001b[1;32m     11\u001b[0m     \u001b[0mdata\u001b[0m\u001b[0;34m.\u001b[0m\u001b[0mloc\u001b[0m\u001b[0;34m[\u001b[0m\u001b[0mrow_index\u001b[0m\u001b[0;34m,\u001b[0m \u001b[0;34m'property_type'\u001b[0m\u001b[0;34m]\u001b[0m \u001b[0;34m=\u001b[0m \u001b[0mresults\u001b[0m\u001b[0;34m[\u001b[0m\u001b[0;36m0\u001b[0m\u001b[0;34m]\u001b[0m\u001b[0;34m\u001b[0m\u001b[0m\n\u001b[1;32m     12\u001b[0m     \u001b[0mdata\u001b[0m\u001b[0;34m.\u001b[0m\u001b[0mloc\u001b[0m\u001b[0;34m[\u001b[0m\u001b[0mrow_index\u001b[0m\u001b[0;34m,\u001b[0m \u001b[0;34m'property_costs'\u001b[0m\u001b[0;34m]\u001b[0m \u001b[0;34m=\u001b[0m \u001b[0mresults\u001b[0m\u001b[0;34m[\u001b[0m\u001b[0;36m1\u001b[0m\u001b[0;34m]\u001b[0m\u001b[0;34m\u001b[0m\u001b[0m\n",
      "\u001b[0;31mAttributeError\u001b[0m: 'NoneType' object has no attribute 'find_all'"
     ]
    }
   ],
   "source": [
    "headers = {\n",
    "    'User-Agent': 'Mozilla/5.0 (X11; Ubuntu; Linux x86_64; rv:58.0) Gecko/20100101 Firefox/58.0',\n",
    "    'From': 'data-x@gmail.com' \n",
    "}\n",
    "\n",
    "price_labels = ['index', 'name', 'date', 'price']\n",
    "\n",
    "def populate_row(row_index, data, soup):\n",
    "    parms = soup.find(class_=\"basic-parms-mod\")\n",
    "    results = [i.contents[0] for i in parms.find_all(\"dd\")]\n",
    "    data.loc[row_index, 'property_type'] = results[0]\n",
    "    data.loc[row_index, 'property_costs'] = results[1]\n",
    "    data.loc[row_index, 'total_area'] = results[2]\n",
    "    data.loc[row_index, 'number_of_units'] = results[3]\n",
    "    data.loc[row_index, 'year_built'] = results[4]\n",
    "    data.loc[row_index, 'parking_spots'] = results[5]\n",
    "    data.loc[row_index, 'volume_rate'] = results[6]\n",
    "    data.loc[row_index, 'green_rating'] = results[7]\n",
    "    data.loc[row_index, 'developer_company'] = results[8]\n",
    "    data.loc[row_index, 'property_management_company'] =results[9]\n",
    "\n",
    "def add_price(row_index, data, data_prices, soup):\n",
    "    lookbehind = '(?<=new ajk.chart.priceTrend\\(\\{)'\n",
    "    getall = '[\\s\\S]+?'\n",
    "    lookahead = '(?=}\\);)'\n",
    "    m = re.findall(lookbehind + getall + lookahead, str(soup))\n",
    "    lookbehind = '(?<=data : {)'\n",
    "    getall = '[\\s\\S]+?'\n",
    "    lookahead = '(?=},\\n)'\n",
    "    m2 = re.findall(lookbehind + getall + lookahead, str(m[1]))\n",
    "    price_history = json.loads('{' + m2[0] + '}')['community']\n",
    "    list(price_history[0].items())\n",
    "    data_list = [[row_index, data['address'][row_index], list(p.items())[0][0], list(p.items())[0][1]] for p in price_history]\n",
    "    df = pd.DataFrame.from_records(data_list, columns=price_labels)\n",
    "    return data_prices.append(df, ignore_index=True)\n",
    "    \n",
    "def populate_batch_row(start = 0, batch_size = 1000):\n",
    "    data = pd.read_csv('data_populated_all_fixed.csv', index_col=0)\n",
    "    try:\n",
    "        data_prices = pd.read_csv('data_prices.csv', index_col=0)\n",
    "    except pd.errors.EmptyDataError:\n",
    "        data_prices = pd.DataFrame()\n",
    "    end = start + batch_size\n",
    "\n",
    "    for i in range(start, end):\n",
    "        try:\n",
    "            link = data['link'][i]\n",
    "            source = requests.get(link, headers=headers).content\n",
    "            soup = bs.BeautifulSoup(source, 'html.parser')\n",
    "            populate_row(i, data, soup)\n",
    "            data_prices = add_price(i, data, data_prices, soup)\n",
    "        except requests.ConnectionError:\n",
    "            continue\n",
    "        print(\"done with row \", i)\n",
    "    data.to_csv('data_populated_all_fixed.csv')\n",
    "    data_prices.to_csv('data_prices.csv')\n",
    "    return (data, data_prices)\n",
    "\n",
    "data, data_prices = None, None\n",
    "\n",
    "for i in range(start, end, batch):\n",
    "    data, data_prices = populate_batch_row(i, batch)"
   ]
  }
 ],
 "metadata": {
  "kernelspec": {
   "display_name": "Python 3",
   "language": "python",
   "name": "python3"
  },
  "language_info": {
   "codemirror_mode": {
    "name": "ipython",
    "version": 3
   },
   "file_extension": ".py",
   "mimetype": "text/x-python",
   "name": "python",
   "nbconvert_exporter": "python",
   "pygments_lexer": "ipython3",
   "version": "3.6.3"
  }
 },
 "nbformat": 4,
 "nbformat_minor": 2
}
