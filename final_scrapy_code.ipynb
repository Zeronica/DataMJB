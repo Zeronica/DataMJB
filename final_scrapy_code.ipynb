{
 "cells": [
  {
   "cell_type": "code",
   "execution_count": 1,
   "metadata": {},
   "outputs": [],
   "source": [
    "import numpy as np\n",
    "import pandas as pd\n",
    "import requests\n",
    "from bs4 import BeautifulSoup\n",
    "import re"
   ]
  },
  {
   "cell_type": "code",
   "execution_count": 56,
   "metadata": {},
   "outputs": [],
   "source": [
    "headers={'User-Agent': 'Mozilla/5.0 (Macintosh; Intel Mac OS X 10_13_4) AppleWebKit/537.36 (KHTML, like Gecko) Chrome/65.0.3325.181 Safari/537.36',\n",
    "    'From': 'steven_liu@berkeley.edu' }"
   ]
  },
  {
   "cell_type": "code",
   "execution_count": 39,
   "metadata": {},
   "outputs": [],
   "source": [
    "df = pd.DataFrame(columns=[\"room\", \"area\", \"price\", \"orient\", \"level\", \"dec\", \"line\", \"linedistance\", \"district\", \"subdistrict\" \\\n",
    "                           ,\"school\", \"time\", \"elevator\", \"unknown1\", \"unknown2\", \"unknown3\", \"unknown4\", \"web\"])\n"
   ]
  },
  {
   "cell_type": "code",
   "execution_count": 40,
   "metadata": {},
   "outputs": [],
   "source": [
    "df.to_csv('data.csv', header=True)"
   ]
  },
  {
   "cell_type": "code",
   "execution_count": 57,
   "metadata": {},
   "outputs": [],
   "source": [
    "def scrapy(webs):\n",
    "\n",
    "    room = []\n",
    "    area = []\n",
    "    price = []\n",
    "    orient = []\n",
    "    level = []\n",
    "    dec = []\n",
    "    line = []\n",
    "    linedistance = []\n",
    "    district = []\n",
    "    school = []\n",
    "    time = []\n",
    "    elevator = []\n",
    "    unknown1 = []\n",
    "    unknown2 = []\n",
    "    unknown3 = []\n",
    "    unknown4 = []\n",
    "    web = []\n",
    "    subdistrict = []\n",
    "    df1 = pd.DataFrame(columns=[\"room\", \"area\", \"price\", \"orient\", \"level\", \"dec\", \"line\", \"linedistance\", \"district\", \\\n",
    "                           \"subdistrict\", \"school\", \"time\", \"elevator\", \"unknown1\", \"unknown2\", \"unknown3\", \"unknown4\", \"web\"])\n",
    "    try:\n",
    "        source = requests.get(webs, headers=headers).content\n",
    "        soup = BeautifulSoup(source,'html.parser')\n",
    "        #basci info\n",
    "        d = soup.find_all(class_='tt')\n",
    "        room.append(d[0].text)\n",
    "        area.append(d[1].text)\n",
    "        price.append(d[2].text)\n",
    "        orient.append(d[3].text)\n",
    "        level.append(d[4].text)\n",
    "        dec.append(d[5].text)\n",
    "        #other info\n",
    "        d = soup.find_all(class_='rcont')\n",
    "        d1 = re.findall(r'\\((.*)\\)', d[0].text)\n",
    "        try:\n",
    "            d1 = re.findall(r'[0-9]+', d1[0])\n",
    "            line.append(d1[0])\n",
    "            linedistance.append(d1[1])\n",
    "        except:\n",
    "            line.append(0)\n",
    "            linedistance.append(0)\n",
    "        d2 = re.findall(r'\\S+', d[1].text)\n",
    "        district.append(d2[0])\n",
    "        try:\n",
    "            subdistrict.append(d2[1])\n",
    "        except:\n",
    "            subdistrict.append('no')\n",
    "        web.append(webs)\n",
    "        try:\n",
    "            sch = soup.find(class_='rcont rcont-school').text\n",
    "            school.append(1)\n",
    "            del d[2]\n",
    "        except:\n",
    "            school.append(0)\n",
    "        while not (d[2].text.startswith('19') or d[2].text.startswith('20')):\n",
    "            del d[2]\n",
    "        time.append(d[2].text)\n",
    "        elevator.append(d[3].text)\n",
    "        unknown1.append(d[4].text)\n",
    "        unknown2.append(d[5].text)\n",
    "        unknown3.append(d[6].text)\n",
    "        unknown4.append(d[7].text)\n",
    "        df1.room = room\n",
    "        df1.area = area\n",
    "        df1.price = price\n",
    "        df1.orient = orient \n",
    "        df1.level = level\n",
    "        df1.dec = dec\n",
    "        df1.line = line\n",
    "        df1.linedistance = linedistance\n",
    "        df1.district = district\n",
    "        df1.school = school\n",
    "        df1.time = time\n",
    "        df1.elevator = elevator\n",
    "        df1.unknown1 = unknown1\n",
    "        df1.unknown2 = unknown2\n",
    "        df1.unknown3 = unknown3\n",
    "        df1.unknown4 = unknown4\n",
    "        df1.web = web\n",
    "        df1.subdistrict = subdistrict\n",
    "        return df1\n",
    "    except:\n",
    "        return pd.DataFrame(columns=[\"room\", \"area\", \"price\", \"orient\", \"level\", \"dec\", \"line\", \"linedistance\", \"district\", \\\n",
    "                           \"subdistrict\", \"school\", \"time\", \"elevator\", \"unknown1\", \"unknown2\", \"unknown3\", \"unknown4\", \"web\"])"
   ]
  },
  {
   "cell_type": "code",
   "execution_count": 58,
   "metadata": {},
   "outputs": [],
   "source": [
    "#scrapy(\"http://esf.sh.fang.com/chushou/3_319649421.htm\")\n",
    "#scrapy(\"http://esf.sh.fang.com/chushou/3_319943960.htm\")\n",
    "#scrapy(\"http://esf.sh.fang.com/chushou/3_319935596.htm\")\n",
    "#http://esf.sh.fang.com/\n",
    "def scrapy_page(ii, df):\n",
    "\n",
    "    source = requests.get('http://esf.sh.fang.com/house/i3%d'%ii, headers=headers).content\n",
    "    soup = BeautifulSoup(source,'html.parser')\n",
    "    a = soup.find_all(class_='title')\n",
    "    for num, i in enumerate(a):\n",
    "        s = i.find('a').get('href')\n",
    "        df = df.append(scrapy(\"http://esf.sh.fang.com{}\".format(s)), ignore_index=True)\n",
    "        if num % 10 == 0:\n",
    "            print('done with number ', num+(ii-1)*30)\n",
    "    \n",
    "\n",
    "    return df"
   ]
  },
  {
   "cell_type": "code",
   "execution_count": 67,
   "metadata": {},
   "outputs": [
    {
     "name": "stderr",
     "output_type": "stream",
     "text": [
      "Some characters could not be decoded, and were replaced with REPLACEMENT CHARACTER.\n"
     ]
    },
    {
     "name": "stdout",
     "output_type": "stream",
     "text": [
      "done with number  7950\n",
      "done with number  7960\n",
      "done with number  7970\n",
      "done with page 266 , wait for 15s\n"
     ]
    },
    {
     "name": "stderr",
     "output_type": "stream",
     "text": [
      "Some characters could not be decoded, and were replaced with REPLACEMENT CHARACTER.\n"
     ]
    },
    {
     "name": "stdout",
     "output_type": "stream",
     "text": [
      "done with number  7980\n",
      "done with number  7990\n",
      "done with number  8000\n",
      "done with page 267 , wait for 15s\n",
      "done with number  8010\n",
      "done with number  8020\n",
      "done with number  8030\n",
      "done with page 268 , wait for 15s\n",
      "done with number  8040\n",
      "done with number  8050\n",
      "done with number  8060\n",
      "done with page 269 , wait for 15s\n",
      "done with number  8070\n",
      "done with number  8080\n",
      "done with number  8090\n",
      "done with page 270 , wait for 15s\n",
      "done with number  8100\n",
      "done with number  8110\n",
      "done with number  8120\n",
      "done with page 271 , wait for 15s\n",
      "done with number  8130\n",
      "done with number  8140\n",
      "done with number  8150\n",
      "done with page 272 , wait for 15s\n"
     ]
    },
    {
     "name": "stderr",
     "output_type": "stream",
     "text": [
      "Some characters could not be decoded, and were replaced with REPLACEMENT CHARACTER.\n"
     ]
    },
    {
     "name": "stdout",
     "output_type": "stream",
     "text": [
      "done with number  8160\n",
      "done with number  8170\n",
      "done with number  8180\n",
      "done with page 273 , wait for 15s\n",
      "done with number  8190\n",
      "done with number  8200\n",
      "done with number  8210\n",
      "done with page 274 , wait for 15s\n"
     ]
    },
    {
     "name": "stderr",
     "output_type": "stream",
     "text": [
      "Some characters could not be decoded, and were replaced with REPLACEMENT CHARACTER.\n"
     ]
    },
    {
     "name": "stdout",
     "output_type": "stream",
     "text": [
      "done with number  8220\n",
      "done with number  8230\n",
      "done with number  8240\n",
      "done with page 275 , wait for 15s\n"
     ]
    },
    {
     "name": "stderr",
     "output_type": "stream",
     "text": [
      "Some characters could not be decoded, and were replaced with REPLACEMENT CHARACTER.\n"
     ]
    },
    {
     "name": "stdout",
     "output_type": "stream",
     "text": [
      "done with number  8250\n",
      "done with number  8260\n",
      "done with number  8270\n",
      "done with page 276 , wait for 15s\n",
      "done with number  8280\n",
      "done with number  8290\n",
      "done with number  8300\n",
      "done with page 277 , wait for 15s\n",
      "done with number  8310\n",
      "done with number  8320\n",
      "done with number  8330\n",
      "done with page 278 , wait for 15s\n",
      "done with number  8340\n",
      "done with number  8350\n",
      "done with number  8360\n",
      "done with page 279 , wait for 15s\n",
      "done with number  8370\n",
      "done with number  8380\n",
      "done with number  8390\n",
      "done with page 280 , wait for 15s\n",
      "done with number  8400\n",
      "done with number  8410\n",
      "done with number  8420\n",
      "done with page 281 , wait for 15s\n",
      "done with number  8430\n",
      "done with number  8440\n",
      "done with number  8450\n",
      "done with page 282 , wait for 15s\n",
      "done with number  8460\n",
      "done with number  8470\n",
      "done with number  8480\n",
      "done with page 283 , wait for 15s\n",
      "done with number  8490\n",
      "done with number  8500\n",
      "done with number  8510\n",
      "done with page 284 , wait for 15s\n",
      "done with number  8520\n",
      "done with number  8530\n",
      "done with number  8540\n",
      "done with page 285 , wait for 15s\n",
      "done with number  8550\n",
      "done with number  8560\n",
      "done with number  8570\n",
      "done with page 286 , wait for 15s\n",
      "done with number  8580\n",
      "done with number  8590\n",
      "done with number  8600\n",
      "done with page 287 , wait for 15s\n",
      "done with number  8610\n",
      "done with number  8620\n",
      "done with number  8630\n",
      "done with page 288 , wait for 15s\n",
      "done with number  8640\n",
      "done with number  8650\n",
      "done with number  8660\n",
      "done with page 289 , wait for 15s\n",
      "done with number  8670\n",
      "done with number  8680\n",
      "done with number  8690\n",
      "done with page 290 , wait for 15s\n",
      "done with number  8700\n",
      "done with number  8710\n",
      "done with number  8720\n",
      "done with page 291 , wait for 15s\n",
      "done with number  8730\n",
      "done with number  8740\n",
      "done with number  8750\n",
      "done with page 292 , wait for 15s\n",
      "done with number  8760\n",
      "done with number  8770\n",
      "done with number  8780\n",
      "done with page 293 , wait for 15s\n"
     ]
    },
    {
     "name": "stderr",
     "output_type": "stream",
     "text": [
      "Some characters could not be decoded, and were replaced with REPLACEMENT CHARACTER.\n"
     ]
    },
    {
     "name": "stdout",
     "output_type": "stream",
     "text": [
      "done with number  8790\n",
      "done with number  8800\n",
      "done with number  8810\n",
      "done with page 294 , wait for 15s\n",
      "done with number  8820\n",
      "done with number  8830\n",
      "done with number  8840\n",
      "done with page 295 , wait for 15s\n",
      "done with number  8850\n",
      "done with number  8860\n",
      "done with number  8870\n",
      "done with page 296 , wait for 15s\n",
      "done with number  8880\n",
      "done with number  8890\n",
      "done with number  8900\n",
      "done with page 297 , wait for 15s\n",
      "done with number  8910\n",
      "done with number  8920\n",
      "done with number  8930\n",
      "done with page 298 , wait for 15s\n",
      "done with number  8940\n",
      "done with number  8950\n",
      "done with number  8960\n",
      "done with page 299 , wait for 15s\n"
     ]
    }
   ],
   "source": [
    "import time\n",
    "for i in range(266,300):\n",
    "    df = pd.read_csv('data.csv', index_col=0)\n",
    "    df = scrapy_page(i, df)\n",
    "    df.to_csv('data.csv', header=True)\n",
    "    print('done with page %d , wait for 15s'%i)\n",
    "    time.sleep(25)"
   ]
  },
  {
   "cell_type": "code",
   "execution_count": 2,
   "metadata": {},
   "outputs": [],
   "source": [
    "df1 = pd.read_csv('data.csv')\n",
    "df2 = pd.read_csv('data_1.csv')"
   ]
  },
  {
   "cell_type": "code",
   "execution_count": 10,
   "metadata": {},
   "outputs": [],
   "source": [
    "df3 = df1.append(df2,ignore_index=True)"
   ]
  },
  {
   "cell_type": "code",
   "execution_count": 12,
   "metadata": {},
   "outputs": [],
   "source": [
    "df3.to_csv('data_600.csv', header=True)"
   ]
  },
  {
   "cell_type": "code",
   "execution_count": null,
   "metadata": {},
   "outputs": [],
   "source": []
  }
 ],
 "metadata": {
  "kernelspec": {
   "display_name": "Python 3",
   "language": "python",
   "name": "python3"
  },
  "language_info": {
   "codemirror_mode": {
    "name": "ipython",
    "version": 3
   },
   "file_extension": ".py",
   "mimetype": "text/x-python",
   "name": "python",
   "nbconvert_exporter": "python",
   "pygments_lexer": "ipython3",
   "version": "3.6.4"
  }
 },
 "nbformat": 4,
 "nbformat_minor": 2
}
